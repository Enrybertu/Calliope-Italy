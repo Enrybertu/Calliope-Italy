{
 "cells": [
  {
   "cell_type": "code",
   "execution_count": 1,
   "metadata": {},
   "outputs": [],
   "source": [
    "import calliope\n",
    "from static_plots import power_plot, per_loc_cap_plot, horizontal_loc_cap_plot\n",
    "from nos_utils import update_cap_max, vres_diff_per_loc, cap_loc_score, cap_loc_score_systemwide, cap_loc_calc, update_nos_score_params\n",
    "import numpy as np\n",
    "import pandas as pd\n",
    "import calliope.core.io\n",
    "\n",
    "\n",
    "calliope.set_log_verbosity('INFO') #sets the level of verbosity of Calliope's operations\n"
   ]
  },
  {
   "cell_type": "code",
   "execution_count": 2,
   "metadata": {},
   "outputs": [],
   "source": [
    "cost_list = []\n",
    "co2_list = []\n",
    "slacks = [1.01, 1.05, 1.1]"
   ]
  },
  {
   "cell_type": "code",
   "execution_count": 3,
   "metadata": {},
   "outputs": [
    {
     "name": "stdout",
     "output_type": "stream",
     "text": [
      "[2019-06-12 15:15:23] INFO     Model: initialising\n",
      "[2019-06-12 15:15:29] INFO     Model: loaded model_data\n",
      "[2019-06-12 15:15:29] WARNING  d:\\github\\calliope\\calliope\\core\\model.py:357: FutureWarning:\n",
      "\n",
      "`charge_rate` is renamed to `energy_cap_per_storage_cap_max` and will be removed in v0.7.0.\n",
      "\n",
      "\n",
      "[2019-06-12 15:15:30] INFO     Model: initialising\n",
      "[2019-06-12 15:15:35] INFO     Model: loaded model_data\n",
      "[2019-06-12 15:15:35] WARNING  d:\\github\\calliope\\calliope\\core\\model.py:357: FutureWarning:\n",
      "\n",
      "`charge_rate` is renamed to `energy_cap_per_storage_cap_max` and will be removed in v0.7.0.\n",
      "\n",
      "\n"
     ]
    }
   ],
   "source": [
    "model = calliope.read_netcdf('NetCDFs/results_0.nc')\n",
    "model_0 = calliope.read_netcdf('NetCDFs/results_0.nc')"
   ]
  },
  {
   "cell_type": "code",
   "execution_count": 4,
   "metadata": {},
   "outputs": [],
   "source": [
    "#Cost class\n",
    "costs_0 =  model.get_formatted_array('cost').loc[{'costs': 'monetary'}].sum(['locs','techs']).to_pandas()\n",
    "cost_list.append(costs_0)\n",
    "\n",
    "#CO2 class\n",
    "co2_0 = model.get_formatted_array('cost').loc[{'costs': 'co2'}].sum(['locs','techs']).to_pandas()\n",
    "co2_list.append(co2_0)"
   ]
  },
  {
   "cell_type": "code",
   "execution_count": 5,
   "metadata": {},
   "outputs": [],
   "source": [
    "slacked_costs_list = slacks*costs_0 \n",
    "slacked_costs = {'max_cost1': slacked_costs_list[0], 'max_cost5': slacked_costs_list[1], 'max_cost10': slacked_costs_list[2]}"
   ]
  },
  {
   "cell_type": "code",
   "execution_count": null,
   "metadata": {},
   "outputs": [],
   "source": []
  }
 ],
 "metadata": {
  "kernelspec": {
   "display_name": "Python 3",
   "language": "python",
   "name": "python3"
  },
  "language_info": {
   "codemirror_mode": {
    "name": "ipython",
    "version": 3
   },
   "file_extension": ".py",
   "mimetype": "text/x-python",
   "name": "python",
   "nbconvert_exporter": "python",
   "pygments_lexer": "ipython3",
   "version": "3.6.7"
  }
 },
 "nbformat": 4,
 "nbformat_minor": 2
}
